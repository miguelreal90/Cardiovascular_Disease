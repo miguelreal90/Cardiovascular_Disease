{
  "nbformat": 4,
  "nbformat_minor": 0,
  "metadata": {
    "colab": {
      "provenance": [],
      "toc_visible": true,
      "authorship_tag": "ABX9TyOtXgkRYqGx99jI4Wt9VFRJ",
      "include_colab_link": true
    },
    "kernelspec": {
      "name": "python3",
      "display_name": "Python 3"
    },
    "language_info": {
      "name": "python"
    }
  },
  "cells": [
    {
      "cell_type": "markdown",
      "metadata": {
        "id": "view-in-github",
        "colab_type": "text"
      },
      "source": [
        "<a href=\"https://colab.research.google.com/github/miguelreal90/Cardiovascular_Disease/blob/main/notebooks/prueba_1.ipynb\" target=\"_parent\"><img src=\"https://colab.research.google.com/assets/colab-badge.svg\" alt=\"Open In Colab\"/></a>"
      ]
    },
    {
      "cell_type": "code",
      "execution_count": null,
      "metadata": {
        "id": "ZUvk1cSDjTER"
      },
      "outputs": [],
      "source": [
        "#esto es una prueba de como usar google colab en github"
      ]
    },
    {
      "cell_type": "code",
      "source": [
        "#esto es otra prueba de el segundo commit de colab"
      ],
      "metadata": {
        "id": "hCBsUW6ZkPwV"
      },
      "execution_count": null,
      "outputs": []
    },
    {
      "cell_type": "code",
      "source": [
        "1"
      ],
      "metadata": {
        "id": "dfpXDzUgkwGX"
      },
      "execution_count": null,
      "outputs": []
    },
    {
      "cell_type": "code",
      "source": [
        "2"
      ],
      "metadata": {
        "id": "NbEQVEflkxuX"
      },
      "execution_count": null,
      "outputs": []
    },
    {
      "cell_type": "code",
      "source": [
        "3"
      ],
      "metadata": {
        "id": "kzeQC49wky2E"
      },
      "execution_count": null,
      "outputs": []
    }
  ]
}